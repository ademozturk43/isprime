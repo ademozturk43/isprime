{
 "cells": [
  {
   "cell_type": "code",
   "execution_count": 2,
   "metadata": {},
   "outputs": [
    {
     "name": "stdout",
     "output_type": "stream",
     "text": [
      "14  is not a prime number\n"
     ]
    }
   ],
   "source": [
    "num = int(input(\"Bir sayı giriniz : \"))\n",
    "flag = False\n",
    "for i in range(2, num):\n",
    "    if(num % i ) == 0:\n",
    "        flag = True\n",
    "        break\n",
    "if flag :\n",
    "    print(num, \" is not a prime number\")\n",
    "else:\n",
    "    print(num, \"is a prime number\")\n",
    "    "
   ]
  }
 ],
 "metadata": {
  "interpreter": {
   "hash": "2710713472adc5eff9c004c20669de3f02a585a60d39918c9cc56f353abfbf8b"
  },
  "kernelspec": {
   "display_name": "Python 3.10.4 64-bit",
   "language": "python",
   "name": "python3"
  },
  "language_info": {
   "codemirror_mode": {
    "name": "ipython",
    "version": 3
   },
   "file_extension": ".py",
   "mimetype": "text/x-python",
   "name": "python",
   "nbconvert_exporter": "python",
   "pygments_lexer": "ipython3",
   "version": "3.10.4"
  },
  "orig_nbformat": 4
 },
 "nbformat": 4,
 "nbformat_minor": 2
}
